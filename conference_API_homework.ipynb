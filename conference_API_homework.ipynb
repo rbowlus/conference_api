{
 "cells": [
  {
   "cell_type": "code",
   "execution_count": 3,
   "id": "b18280fa",
   "metadata": {},
   "outputs": [
    {
     "name": "stdout",
     "output_type": "stream",
     "text": [
      "{'United States': [{'availableDates': ['2017-05-19', '2017-05-20', '2017-05-21', '2017-05-26', '2017-05-28', '2017-05-29', '2017-06-01', '2017-06-02', '2017-06-03'], 'country': 'United States', 'email': 'rketring@codingtemple.com', 'firstName': 'Rebbeca', 'lastName': 'Ketring'}, 'ccafaro@codingtemple.com', 'mlacau@codingtemple.com', 'eomersa@codingtemple.com', 'ssheahan@codingtemple.com', 'msoult@codingtemple.com', 'bleeks@codingtemple.com', 'lsolid@codingtemple.com', 'bwatton@codingtemple.com', 'jmasher@codingtemple.com', 'afernadez@codingtemple.com', 'mmottern@codingtemple.com', 'pdougherty@codingtemple.com', 'sdegunya@codingtemple.com', 'sbeemon@codingtemple.com', 'mvirgel@codingtemple.com', 'szenger@codingtemple.com', 'jglosson@codingtemple.com', 'fcragin@codingtemple.com', 'sdockal@codingtemple.com', 'rbreznay@codingtemple.com', 'dbelgrave@codingtemple.com', 'nkobbe@codingtemple.com', 'sskinnen@codingtemple.com', 'lskeeters@codingtemple.com', 'hpolitte@codingtemple.com'], 'Ireland': [{'availableDates': ['2017-05-28', '2017-05-29', '2017-05-30', '2017-05-31', '2017-06-04', '2017-06-05'], 'country': 'Ireland', 'email': 'sterrence@codingtemple.com', 'firstName': 'Santos', 'lastName': 'Terrence'}, 'dpatnode@codingtemple.com', 'enawwar@codingtemple.com', 'pbertog@codingtemple.com', 'rguldemond@codingtemple.com', 'rfarlee@codingtemple.com', 'elaskin@codingtemple.com', 'greif@codingtemple.com', 'mclawson@codingtemple.com', 'mbottenfield@codingtemple.com', 'akulju@codingtemple.com', 'cscoby@codingtemple.com', 'dsiebenthal@codingtemple.com', 'dharriet@codingtemple.com', 'mcrossen@codingtemple.com', 'emullahy@codingtemple.com', 'mkimble@codingtemple.com', 'mcodispoti@codingtemple.com', 'mdolinsky@codingtemple.com', 'jlehoullier@codingtemple.com', 'jmanoso@codingtemple.com', 'mcomer@codingtemple.com', 'apassi@codingtemple.com', 'dtighe@codingtemple.com', 'kdickinson@codingtemple.com'], 'Spain': [{'availableDates': ['2017-04-15', '2017-04-16', '2017-04-17', '2017-04-18', '2017-04-23', '2017-04-24', '2017-04-26', '2017-04-27', '2017-05-03', '2017-05-04'], 'country': 'Spain', 'email': 'oduttinger@codingtemple.com', 'firstName': 'Obdulia', 'lastName': 'Duttinger'}, 'tzavesky@codingtemple.com', 'alyme@codingtemple.com', 'mtalton@codingtemple.com', 'aferkovich@codingtemple.com', 'cbrookhouse@codingtemple.com', 'mselk@codingtemple.com', 'amacneil@codingtemple.com', 'jplants@codingtemple.com', 'devora@codingtemple.com', 'bcustis@codingtemple.com', 'labbot@codingtemple.com', 'oalampi@codingtemple.com', 'vodien@codingtemple.com', 'alema@codingtemple.com', 'civery@codingtemple.com', 'dheckler@codingtemple.com', 'sloux@codingtemple.com', 'npleasanton@codingtemple.com', 'bmcgue@codingtemple.com', 'cwalbright@codingtemple.com', 'lhalmstead@codingtemple.com', 'jfavieri@codingtemple.com', 'sstudniarz@codingtemple.com', 'ohindman@codingtemple.com', 'skampa@codingtemple.com', 'anickless@codingtemple.com'], 'Mexico': [{'availableDates': ['2017-04-17', '2017-04-19', '2017-04-20', '2017-04-24', '2017-04-28', '2017-04-29', '2017-04-30', '2017-05-01', '2017-05-04', '2017-05-05', '2017-05-06'], 'country': 'Mexico', 'email': 'sbrugliera@codingtemple.com', 'firstName': 'Sharon', 'lastName': 'Brugliera'}, 'crupprecht@codingtemple.com', 'ltoepperwein@codingtemple.com', 'faceveda@codingtemple.com', 'adanza@codingtemple.com', 'otreworgy@codingtemple.com', 'bparmele@codingtemple.com', 'ghilkert@codingtemple.com', 'ymikhaiel@codingtemple.com', 'mdelarme@codingtemple.com', 'vchenevert@codingtemple.com', 'amolinini@codingtemple.com', 'triopel@codingtemple.com', 'fmaier@codingtemple.com', 'bkuligowski@codingtemple.com', 'pstrohbehn@codingtemple.com', 'olavine@codingtemple.com', 'svecchione@codingtemple.com', 'cvipond@codingtemple.com', 'kscarboro@codingtemple.com', 'jiacobelli@codingtemple.com', 'sjohannes@codingtemple.com', 'ksinitiere@codingtemple.com', 'fhurlebaus@codingtemple.com', 'breatherford@codingtemple.com'], 'Canada': [{'availableDates': ['2017-06-23', '2017-06-24', '2017-06-26', '2017-06-27', '2017-07-03', '2017-07-10'], 'country': 'Canada', 'email': 'rrojero@codingtemple.com', 'firstName': 'Randy', 'lastName': 'Rojero'}, 'nshier@codingtemple.com', 'tdevoll@codingtemple.com', 'lgritton@codingtemple.com', 'elizarrago@codingtemple.com', 'ehartly@codingtemple.com', 'mhutley@codingtemple.com', 'rveyna@codingtemple.com', 'abending@codingtemple.com', 'agewant@codingtemple.com', 'csabori@codingtemple.com', 'jtrieger@codingtemple.com', 'rradoslovich@codingtemple.com', 'manglebrandt@codingtemple.com', 'pcurt@codingtemple.com', 'kschoeman@codingtemple.com', 'mboyarski@codingtemple.com', 'xlubbert@codingtemple.com', 'mmanusyants@codingtemple.com', 'nperagine@codingtemple.com', 'mnealer@codingtemple.com', 'bludeker@codingtemple.com', 'psalowitz@codingtemple.com', 'wfaines@codingtemple.com'], 'Singapore': [{'availableDates': ['2017-06-03', '2017-06-04', '2017-06-07', '2017-06-08', '2017-06-14', '2017-06-18'], 'country': 'Singapore', 'email': 'mskrobacki@codingtemple.com', 'firstName': 'Marjorie', 'lastName': 'Skrobacki'}, 'bchiappetta@codingtemple.com', 'vgoldhirsh@codingtemple.com', 'jkuester@codingtemple.com', 'prushford@codingtemple.com', 'jnovakovich@codingtemple.com', 'ctraut@codingtemple.com', 'skriger@codingtemple.com', 'yniedzwiecki@codingtemple.com', 'imoala@codingtemple.com', 'jmolzahn@codingtemple.com', 'rdreyfuss@codingtemple.com', 'wpreast@codingtemple.com', 'dhaselhuhn@codingtemple.com', 'hboles@codingtemple.com', 'sgallardo@codingtemple.com', 'egeis@codingtemple.com', 'fheiberger@codingtemple.com', 'dvates@codingtemple.com', 'lfears@codingtemple.com', 'skizior@codingtemple.com', 'cwhichard@codingtemple.com', 'vabruzzese@codingtemple.com', 'lpercey@codingtemple.com', 'sriola@codingtemple.com', 'ncorporan@codingtemple.com', 'jhelland@codingtemple.com'], 'Japan': [{'availableDates': ['2017-06-09', '2017-06-10', '2017-06-15', '2017-06-16', '2017-06-19', '2017-06-21', '2017-06-22', '2017-06-23'], 'country': 'Japan', 'email': 'kbirenbaum@codingtemple.com', 'firstName': 'Kandis', 'lastName': 'Birenbaum'}, 'smallet@codingtemple.com', 'oblackwelder@codingtemple.com', 'mleckband@codingtemple.com', 'laubrey@codingtemple.com', 'skoellmann@codingtemple.com', 'cgrasso@codingtemple.com', 'mpittard@codingtemple.com', 'ckollmorgen@codingtemple.com', 'thouse@codingtemple.com', 'drede@codingtemple.com', 'lalway@codingtemple.com', 'fpeteet@codingtemple.com', 'lnikolas@codingtemple.com', 'vcortner@codingtemple.com', 'hvazzana@codingtemple.com', 'ltacadina@codingtemple.com', 'thenrickson@codingtemple.com', 'ccodell@codingtemple.com', 'eallscheid@codingtemple.com', 'csultemeier@codingtemple.com', 'dgezalyan@codingtemple.com', 'wdolinger@codingtemple.com', 'meby@codingtemple.com', 'scowgill@codingtemple.com', 'fsylvis@codingtemple.com'], 'United Kingdom': [{'availableDates': ['2017-06-01', '2017-06-02', '2017-06-05', '2017-06-06', '2017-06-18'], 'country': 'United Kingdom', 'email': 'arosentrater@codingtemple.com', 'firstName': 'Anisha', 'lastName': 'Rosentrater'}, 'jgoettsche@codingtemple.com', 'nbehal@codingtemple.com', 'bkilcher@codingtemple.com', 'ostutler@codingtemple.com', 'emaohu@codingtemple.com', 'jbattistoni@codingtemple.com', 'ccoryea@codingtemple.com', 'gcintron@codingtemple.com', 'scorlett@codingtemple.com', 'dallocca@codingtemple.com', 'dneedler@codingtemple.com', 'lsachez@codingtemple.com', 'sszabo@codingtemple.com', 'smaleck@codingtemple.com', 'jholtrop@codingtemple.com', 'sslupe@codingtemple.com', 'gbarvosa@codingtemple.com', 'jschouten@codingtemple.com', 'nrilley@codingtemple.com', 'hharrah@codingtemple.com', 'tbrechbiel@codingtemple.com', 'ypherigo@codingtemple.com', 'ppereyra@codingtemple.com', 'rtilleman@codingtemple.com', 'lcobian@codingtemple.com'], 'France': [{'availableDates': ['2017-06-08', '2017-06-09', '2017-06-10', '2017-06-11', '2017-06-12', '2017-06-16', '2017-06-17', '2017-06-20', '2017-06-25'], 'country': 'France', 'email': 'efallick@codingtemple.com', 'firstName': 'Ericka', 'lastName': 'Fallick'}, 'wkissner@codingtemple.com', 'ecantatore@codingtemple.com', 'vrindal@codingtemple.com', 'nbeau@codingtemple.com', 'jgarafola@codingtemple.com', 'bdurke@codingtemple.com', 'jtopp@codingtemple.com', 'tgrush@codingtemple.com', 'tpinela@codingtemple.com', 'jdefore@codingtemple.com', 'jeffner@codingtemple.com', 'csibille@codingtemple.com', 'agimble@codingtemple.com', 'dmaneafaiga@codingtemple.com', 'dvosburg@codingtemple.com', 'jmacareno@codingtemple.com', 'stukis@codingtemple.com', 'manhalt@codingtemple.com', 'alatulipe@codingtemple.com', 'cmalakan@codingtemple.com', 'tgilgour@codingtemple.com', 'awaloven@codingtemple.com', 'ssteffey@codingtemple.com', 'lhaymer@codingtemple.com', 'hscheiern@codingtemple.com', 'bmerrithew@codingtemple.com']}\n"
     ]
    }
   ],
   "source": [
    "import requests\n",
    "from datetime import date, timedelta\n",
    "\n",
    "res = requests.get(\"https://ct-mock-tech-assessment.herokuapp.com/\")\n",
    "\n",
    "data = res.json()\n",
    "\n",
    "# WORKS\n",
    "# new_list = []\n",
    "# for r in data['partners']:\n",
    "#     new_list.append(\n",
    "#        {\n",
    "#             'country': r['country'],\n",
    "#             'email': r['email'],\n",
    "#             'firstname': r['firstName'],\n",
    "#             'lastname': r['lastName'],\n",
    "#             'availableDates': r['availableDates']\n",
    "#         }\n",
    "#     )\n",
    "    \n",
    "for r in data['partners']:\n",
    "    availability = r['availableDates']\n",
    "    country = r['country']\n",
    "    email = r['email']\n",
    "    first_name = r['firstName']\n",
    "    last_name = r['lastName']\n",
    "   #print(first_name, last_name, email, country)\n",
    "\n",
    "    for a in availability:\n",
    "        a = datetime.strptime(a, \"%Y-%m-%d\").date()\n",
    "        print(a)\n",
    "\n",
    "\n",
    "new_dict = {}\n",
    "# #new_dict[r[\"country\"]] ={\n",
    "#      r['email'] = r[\"availableDates\"]\n",
    "#     }\n",
    "\n",
    "for r in data['partners']:\n",
    "    if r['country'] not in new_dict.keys():\n",
    "        new_dict[r['country']]  = [r] \n",
    "    else:\n",
    "        new_dict[r['country']].append(r['email'])\n",
    "print(new_dict)\n",
    "        \n"
   ]
  },
  {
   "cell_type": "code",
   "execution_count": 4,
   "id": "c74821cb",
   "metadata": {},
   "outputs": [
    {
     "ename": "TypeError",
     "evalue": "'Response' object is not subscriptable",
     "output_type": "error",
     "traceback": [
      "\u001b[1;31m---------------------------------------------------------------------------\u001b[0m",
      "\u001b[1;31mTypeError\u001b[0m                                 Traceback (most recent call last)",
      "\u001b[1;32m<ipython-input-4-8deeb47819a8>\u001b[0m in \u001b[0;36m<module>\u001b[1;34m\u001b[0m\n\u001b[0;32m     29\u001b[0m             \u001b[0mself\u001b[0m\u001b[1;33m.\u001b[0m\u001b[0mlist\u001b[0m\u001b[1;33m[\u001b[0m\u001b[0mnew_attendee\u001b[0m\u001b[1;33m.\u001b[0m\u001b[0minfo\u001b[0m\u001b[1;33m[\u001b[0m\u001b[1;34m'country'\u001b[0m\u001b[1;33m]\u001b[0m\u001b[1;33m]\u001b[0m \u001b[1;33m=\u001b[0m \u001b[0mr\u001b[0m\u001b[1;33m[\u001b[0m\u001b[1;34m'country'\u001b[0m\u001b[1;33m]\u001b[0m\u001b[1;33m\u001b[0m\u001b[1;33m\u001b[0m\u001b[0m\n\u001b[0;32m     30\u001b[0m         \u001b[1;32mreturn\u001b[0m \u001b[0mself\u001b[0m\u001b[1;33m.\u001b[0m\u001b[0mlist\u001b[0m\u001b[1;33m\u001b[0m\u001b[1;33m\u001b[0m\u001b[0m\n\u001b[1;32m---> 31\u001b[1;33m \u001b[0mAvailability\u001b[0m\u001b[1;33m.\u001b[0m\u001b[0mcreate_list\u001b[0m\u001b[1;33m(\u001b[0m\u001b[1;34m'United States'\u001b[0m\u001b[1;33m)\u001b[0m\u001b[1;33m\u001b[0m\u001b[1;33m\u001b[0m\u001b[0m\n\u001b[0m",
      "\u001b[1;32m<ipython-input-4-8deeb47819a8>\u001b[0m in \u001b[0;36mcreate_list\u001b[1;34m(self)\u001b[0m\n\u001b[0;32m     21\u001b[0m \u001b[1;33m\u001b[0m\u001b[0m\n\u001b[0;32m     22\u001b[0m     \u001b[1;32mdef\u001b[0m \u001b[0mcreate_list\u001b[0m\u001b[1;33m(\u001b[0m\u001b[0mself\u001b[0m\u001b[1;33m)\u001b[0m\u001b[1;33m:\u001b[0m\u001b[1;33m\u001b[0m\u001b[1;33m\u001b[0m\u001b[0m\n\u001b[1;32m---> 23\u001b[1;33m         \u001b[0mnew_attendee\u001b[0m \u001b[1;33m=\u001b[0m \u001b[0mCodingTemple\u001b[0m\u001b[1;33m(\u001b[0m\u001b[0mrequests\u001b[0m\u001b[1;33m.\u001b[0m\u001b[0mget\u001b[0m\u001b[1;33m(\u001b[0m\u001b[1;34m'https://ct-mock-tech-assessment.herokuapp.com/'\u001b[0m\u001b[1;33m)\u001b[0m\u001b[1;33m)\u001b[0m\u001b[1;33m\u001b[0m\u001b[1;33m\u001b[0m\u001b[0m\n\u001b[0m\u001b[0;32m     24\u001b[0m         \u001b[1;31m# Statement that finds all the dates that overlap - if fits in range, append\u001b[0m\u001b[1;33m\u001b[0m\u001b[1;33m\u001b[0m\u001b[1;33m\u001b[0m\u001b[0m\n\u001b[0;32m     25\u001b[0m         \u001b[1;31m#for some range of dates - as long as it satisfies two consectivedays\u001b[0m\u001b[1;33m\u001b[0m\u001b[1;33m\u001b[0m\u001b[1;33m\u001b[0m\u001b[0m\n",
      "\u001b[1;32m<ipython-input-4-8deeb47819a8>\u001b[0m in \u001b[0;36m__init__\u001b[1;34m(self, r)\u001b[0m\n\u001b[0;32m      7\u001b[0m         self.info = {\n\u001b[0;32m      8\u001b[0m \u001b[1;31m#           'attendeeCount': attendees.count('email'),\u001b[0m\u001b[1;33m\u001b[0m\u001b[1;33m\u001b[0m\u001b[1;33m\u001b[0m\u001b[0m\n\u001b[1;32m----> 9\u001b[1;33m         \u001b[1;34m'attendees'\u001b[0m\u001b[1;33m:\u001b[0m \u001b[0mr\u001b[0m\u001b[1;33m[\u001b[0m\u001b[1;34m'emails'\u001b[0m\u001b[1;33m]\u001b[0m\u001b[1;33m,\u001b[0m\u001b[1;33m\u001b[0m\u001b[1;33m\u001b[0m\u001b[0m\n\u001b[0m\u001b[0;32m     10\u001b[0m         \u001b[1;34m'country'\u001b[0m\u001b[1;33m:\u001b[0m \u001b[0mr\u001b[0m\u001b[1;33m[\u001b[0m\u001b[1;34m'country'\u001b[0m\u001b[1;33m]\u001b[0m\u001b[1;33m,\u001b[0m\u001b[1;33m\u001b[0m\u001b[1;33m\u001b[0m\u001b[0m\n\u001b[0;32m     11\u001b[0m         \u001b[1;34m'startDate'\u001b[0m \u001b[1;33m:\u001b[0m \u001b[0mr\u001b[0m\u001b[1;33m[\u001b[0m\u001b[1;34m'availableDates'\u001b[0m\u001b[1;33m]\u001b[0m\u001b[1;33m\u001b[0m\u001b[1;33m\u001b[0m\u001b[0m\n",
      "\u001b[1;31mTypeError\u001b[0m: 'Response' object is not subscriptable"
     ]
    }
   ],
   "source": [
    "import datetime\n",
    "import requests\n",
    "class CodingTemple:\n",
    "    pass\n",
    "\n",
    "    def __init__(self, r):\n",
    "        self.info = {\n",
    "           'attendeeCount': attendees.count('email'),\n",
    "        'attendees': r['emails'],\n",
    "        'country': r['country'],\n",
    "        'startDate' : r['availableDates']\n",
    "        }\n",
    "            \n",
    "    def __repr__(self):\n",
    "        return self.info\n",
    "    \n",
    "    \n",
    "class Availability:\n",
    "    pass\n",
    "    def __init__(self, _country):\n",
    "        self.list = []\n",
    "    \n",
    "    def create_list(self):\n",
    "        new_attendee = CodingTemple(requests.get('https://ct-mock-tech-assessment.herokuapp.com/'))\n",
    "        # Statement that finds all the dates that overlap - if fits in range, append\n",
    "        #for some range of dates - as long as it satisfies two consectivedays\n",
    "        if new_attendee.info['country'] not in self.list.keys():\n",
    "            self.list[new_attendee.info['country']] =  r['country']\n",
    "        else:\n",
    "            self.list[new_attendee.info['country']] = r['country']\n",
    "        return self.list\n",
    "Availability.create_list('United States')\n",
    "\n",
    "# res = requests.post(url = ' ', jspn={'data': json.dumps(sol)}) #sol is what Jay called his list\n",
    "# print(res.status_code)"
   ]
  },
  {
   "cell_type": "code",
   "execution_count": null,
   "id": "36fd978f",
   "metadata": {},
   "outputs": [],
   "source": []
  }
 ],
 "metadata": {
  "kernelspec": {
   "display_name": "Python 3",
   "language": "python",
   "name": "python3"
  },
  "language_info": {
   "codemirror_mode": {
    "name": "ipython",
    "version": 3
   },
   "file_extension": ".py",
   "mimetype": "text/x-python",
   "name": "python",
   "nbconvert_exporter": "python",
   "pygments_lexer": "ipython3",
   "version": "3.9.5"
  }
 },
 "nbformat": 4,
 "nbformat_minor": 5
}
